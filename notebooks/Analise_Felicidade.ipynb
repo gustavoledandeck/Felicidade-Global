{
 "cells": [
  {
   "cell_type": "code",
   "execution_count": 3,
   "id": "ed4af107-5eed-43d3-a78d-bb471e83b795",
   "metadata": {},
   "outputs": [],
   "source": [
    "import pandas as pd\n",
    "import numpy as np\n",
    "import matplotlib.pyplot as plt\n",
    "import seaborn as sns\n",
    "import os"
   ]
  },
  {
   "cell_type": "code",
   "execution_count": 39,
   "id": "94c7afb8-b048-482c-ad9d-901de74db93d",
   "metadata": {},
   "outputs": [],
   "source": [
    "# Load all CSV files\n",
    "\n",
    "Dfs = []\n",
    "\n",
    "COLUMN_RENAMING = {\n",
    "    \n",
    "    'Country or region': 'country',\n",
    "    'Region': 'region',\n",
    "    \n",
    "    'Happiness Rank': 'happiness_rank',\n",
    "    'Happiness.Rank': 'happiness_rank',\n",
    "    'Happiness Score': 'happiness_score',\n",
    "    'Happiness.Score': 'happiness_score',\n",
    "    'Score': 'happiness_score',\n",
    "    \n",
    "    'gdp_per_capita': 'gdp_per_capita',\n",
    "    'Economy (GDP per Capita)': 'gdp_per_capita',\n",
    "    'Economy..GDP.per.Capita.': 'gdp_per_capita',\n",
    "    'GDP per capita': 'gdp_per_capita',   \n",
    "    'Family': 'social_support',\n",
    "    'social_support': 'social_support',\n",
    "    'Health (Life Expectancy)': 'life_expectancy',\n",
    "    'Health..Life.Expectancy.': 'life_expectancy',\n",
    "    'life_expectancy': 'life_expectancy', \n",
    "\n",
    "    'Freedom': 'freedom',\n",
    "    'Freedom to make life choices': 'freedom',\n",
    "    'Trust (Government Corruption)': 'corruption',\n",
    "    'Trust..Government.Corruption.': 'corruption',\n",
    "    'Perceptions of corruption': 'corruption',\n",
    "    'Generosity': 'generosity',\n",
    "    'Dystopia Residual': 'dystopia_residual',\n",
    "    'Dystopia.Residual': 'dystopia_residual',\n",
    "    'year': 'year'\n",
    "}\n",
    "\n",
    "for year in range(2015, 2020):\n",
    "    file_path = f\"../data/raw/{year}.csv\"\n",
    "\n",
    "    if os.path.exists(file_path):\n",
    "        try:\n",
    "            df = pd.read_csv(file_path)\n",
    "            df = df.rename(columns=COLUMN_RENAMING)   #Corrigindo erro de dados divergentes por nome de coluna divergente entre as planilhas\n",
    "            df['year'] = year  # Coluna com os anos do dataset\n",
    "            Dfs.append(df)\n",
    "        except:\n",
    "\n",
    "            print(f\"Warning: {file_path} not found. Skipping.\")\n",
    "\n",
    "# Combine all DataFrames into one\n",
    "combined_df = pd.concat(Dfs, axis=0, ignore_index=True)\n",
    "#print(combined_df)\n"
   ]
  },
  {
   "cell_type": "code",
   "execution_count": 41,
   "id": "86b35508-9b4b-4c99-ad2c-365aa19db76a",
   "metadata": {},
   "outputs": [
    {
     "name": "stdout",
     "output_type": "stream",
     "text": [
      "country                      312\n",
      "region                       467\n",
      "happiness_rank               312\n",
      "happiness_score                0\n",
      "standard_error               624\n",
      "gdp_per_capita                 0\n",
      "social_support               312\n",
      "life_expectancy              312\n",
      "freedom                        0\n",
      "corruption                     1\n",
      "generosity                     0\n",
      "dystopia_residual            312\n",
      "year                           0\n",
      "lower_confidence_interval    625\n",
      "upper_confidence_interval    625\n",
      "whisker.high                 627\n",
      "whisker.low                  627\n",
      "overall_rank                 470\n",
      "country                      470\n",
      "social_support               470\n",
      "healthy_life_expectancy      470\n",
      "dtype: int64\n"
     ]
    }
   ],
   "source": [
    "combined_df.columns = combined_df.columns.str.lower().str.replace(' ', '_')  # substitui espaço em branco por underline nos nomes das colunas\n",
    "print(combined_df.isnull().sum())\n"
   ]
  },
  {
   "cell_type": "code",
   "execution_count": 56,
   "id": "99adc65c-04e4-4426-9bfd-776320a53e9f",
   "metadata": {},
   "outputs": [
    {
     "name": "stdout",
     "output_type": "stream",
     "text": [
      "Numeric columns: ['happiness_score', 'gdp_per_capita', 'freedom', 'corruption', 'generosity', 'year']\n"
     ]
    }
   ],
   "source": [
    "# Drop columns with >30% missing data\n",
    "newSize = len(combined_df) * 0.7\n",
    "combined_df = combined_df.dropna(thresh=newSize, axis=1) #remove colunas com exceço de missing values \n",
    "\n",
    "# Fill remaining missing values (e.g., with median)\n",
    "numeric_cols = combined_df.select_dtypes(include=np.number).columns.tolist()  #seleciona dtypes do tipo numérico (numpy number)\n",
    "# e extrai o nome das colunas com o dtype selecionado\n",
    "combined_df.loc[:, numeric_cols] = combined_df[numeric_cols].fillna(combined_df[numeric_cols].median())  #preence as linhas de missing values com as medians das colunas do tipo np.number\n",
    "\n",
    "#print(combined_df)\n",
    "\n",
    "#após tratado, gera o csv\n",
    "\n",
    "combined_df.to_csv('../data/processed/Felicidade_data_tradado.csv', index=False)\n"
   ]
  },
  {
   "cell_type": "code",
   "execution_count": null,
   "id": "23e308db-8967-4637-87ea-8cb13c79affc",
   "metadata": {},
   "outputs": [],
   "source": [
    "\n"
   ]
  },
  {
   "cell_type": "code",
   "execution_count": null,
   "id": "7609d613-ded0-4956-a954-2b29d46851e1",
   "metadata": {},
   "outputs": [],
   "source": []
  }
 ],
 "metadata": {
  "kernelspec": {
   "display_name": "Python [conda env:Felicidade-Global-env]",
   "language": "python",
   "name": "conda-env-Felicidade-Global-env-py"
  },
  "language_info": {
   "codemirror_mode": {
    "name": "ipython",
    "version": 3
   },
   "file_extension": ".py",
   "mimetype": "text/x-python",
   "name": "python",
   "nbconvert_exporter": "python",
   "pygments_lexer": "ipython3",
   "version": "3.12.8"
  }
 },
 "nbformat": 4,
 "nbformat_minor": 5
}
